{
 "cells": [
  {
   "cell_type": "code",
   "execution_count": 83,
   "metadata": {},
   "outputs": [],
   "source": [
    "import pandas as pd\n",
    "import numpy as np\n",
    "np.random.seed(2019)\n",
    "\n",
    "import pandas as pd\n",
    "import numpy as np\n",
    "np.random.seed(2019)\n",
    "\n",
    "import re\n",
    "import sys\n",
    "\n",
    "import matplotlib.pyplot as plt\n",
    "\n",
    "from sklearn.model_selection import train_test_split\n",
    "from sklearn.model_selection import learning_curve\n",
    "from sklearn.model_selection import ShuffleSplit\n",
    "\n",
    "from sklearn.model_selection import KFold\n",
    "\n",
    "import seaborn as sns\n",
    "\n",
    "%matplotlib inline\n",
    "\n",
    "import xgboost as xgb\n",
    "\n",
    "import scikitplot as skplt\n",
    "\n",
    "import arrow\n",
    "\n",
    "from sklearn.metrics import precision_score, accuracy_score, recall_score\n",
    "from ml_metrics import rmsle, rmse\n",
    "\n",
    "import dask.dataframe as dd\n",
    "from dask.multiprocessing import get\n",
    "\n"
   ]
  },
  {
   "cell_type": "code",
   "execution_count": 89,
   "metadata": {},
   "outputs": [],
   "source": [
    "def draw_feature_importances(model, features):\n",
    "    importances = model.feature_importances_\n",
    "    indices = np.argsort(importances)[::-1]\n",
    "\n",
    "    plt.figure(figsize=(10, 5))\n",
    "    plt.title(\"Feature importances\")\n",
    "    plt.bar(range(X.shape[1]), model.feature_importances_[indices],\n",
    "           color=\"b\", align=\"center\")\n",
    "    plt.xticks(range(X.shape[1]), [ features[x] for x in indices])\n",
    "    plt.xticks(rotation=90)\n",
    "    plt.xlim([-1, X.shape[1]])\n",
    "    plt.show()"
   ]
  },
  {
   "cell_type": "code",
   "execution_count": 2,
   "metadata": {},
   "outputs": [],
   "source": [
    "train = pd.read_hdf('../input/train_airline_delay.h5')"
   ]
  },
  {
   "cell_type": "code",
   "execution_count": 13,
   "metadata": {},
   "outputs": [],
   "source": [
    "ttrain = dd.from_pandas(train, npartitions=100)"
   ]
  },
  {
   "cell_type": "code",
   "execution_count": 9,
   "metadata": {},
   "outputs": [],
   "source": [
    "test = pd.read_csv('../input/test_airline_delay.csv')"
   ]
  },
  {
   "cell_type": "code",
   "execution_count": 14,
   "metadata": {},
   "outputs": [],
   "source": [
    "ttest = dd.from_pandas(test, npartitions=100)"
   ]
  },
  {
   "cell_type": "code",
   "execution_count": null,
   "metadata": {},
   "outputs": [],
   "source": []
  },
  {
   "cell_type": "code",
   "execution_count": 11,
   "metadata": {},
   "outputs": [],
   "source": [
    "airports = pd.read_csv('../input/airports.csv')"
   ]
  },
  {
   "cell_type": "code",
   "execution_count": 17,
   "metadata": {},
   "outputs": [
    {
     "name": "stdout",
     "output_type": "stream",
     "text": [
      "CPU times: user 28.1 s, sys: 755 ms, total: 28.9 s\n",
      "Wall time: 1min 52s\n"
     ]
    }
   ],
   "source": [
    "%time ttrain['origin_airport_latitude'] = ttrain.map_partitions(lambda df: df.apply((lambda row: (airports[airports.iata == row['origin']]['lat']).values[0]), axis=1), meta=('float64')).compute(scheduler='multiprocessing')"
   ]
  },
  {
   "cell_type": "code",
   "execution_count": 16,
   "metadata": {},
   "outputs": [],
   "source": [
    "ttest['origin_airport_latitude'] = ttest.map_partitions(lambda df: df.apply((lambda row: (airports[airports.iata == row['origin']]['lat']).values[0]), axis=1), meta=('float64')).compute(scheduler='multiprocessing') "
   ]
  },
  {
   "cell_type": "code",
   "execution_count": 18,
   "metadata": {},
   "outputs": [],
   "source": [
    "ttrain['origin_airport_longitude'] = ttrain.map_partitions(lambda df: df.apply((lambda row: (airports[airports.iata == row['origin']]['long']).values[0]), axis=1), meta=('float64')).compute(scheduler='multiprocessing')  "
   ]
  },
  {
   "cell_type": "code",
   "execution_count": 19,
   "metadata": {},
   "outputs": [],
   "source": [
    "ttest['origin_airport_longitude'] = ttest.map_partitions(lambda df: df.apply((lambda row: (airports[airports.iata == row['origin']]['long']).values[0]), axis=1), meta=('float64')).compute(scheduler='multiprocessing')  "
   ]
  },
  {
   "cell_type": "code",
   "execution_count": 20,
   "metadata": {},
   "outputs": [
    {
     "name": "stdout",
     "output_type": "stream",
     "text": [
      "CPU times: user 1min 41s, sys: 7.78 s, total: 1min 48s\n",
      "Wall time: 2min 7s\n"
     ]
    }
   ],
   "source": [
    "%time ttrain['destination_airport_longitude'] = ttrain.map_partitions(lambda df: df.apply((lambda row: (airports[airports.iata == row['destination']]['long']).values[0]), axis=1), meta=('float64')).compute(scheduler='multiprocessing')  "
   ]
  },
  {
   "cell_type": "code",
   "execution_count": 21,
   "metadata": {},
   "outputs": [],
   "source": [
    "ttest['destination_airport_longitude'] = ttest.map_partitions(lambda df: df.apply((lambda row: (airports[airports.iata == row['destination']]['long']).values[0]), axis=1), meta=('float64')).compute(scheduler='multiprocessing')  "
   ]
  },
  {
   "cell_type": "code",
   "execution_count": 22,
   "metadata": {},
   "outputs": [],
   "source": [
    "ttrain['destination_airport_latitude'] = ttrain.map_partitions(lambda df: df.apply((lambda row: (airports[airports.iata == row['destination']]['lat']).values[0]), axis=1), meta=('float64')).compute(scheduler='multiprocessing')  "
   ]
  },
  {
   "cell_type": "code",
   "execution_count": 23,
   "metadata": {},
   "outputs": [],
   "source": [
    "ttest['destination_airport_latitude'] = ttest.map_partitions(lambda df: df.apply((lambda row: (airports[airports.iata == row['destination']]['lat']).values[0]), axis=1), meta=('float64')).compute(scheduler='multiprocessing')  "
   ]
  },
  {
   "cell_type": "code",
   "execution_count": null,
   "metadata": {},
   "outputs": [],
   "source": []
  },
  {
   "cell_type": "code",
   "execution_count": 24,
   "metadata": {},
   "outputs": [],
   "source": [
    "def get_minutes(row):\n",
    "    s = str(int(row['scheduled_arrival_time']))\n",
    "    if len(s) < 4: s = (4 - len(s)) * '0' + s\n",
    "    return (arrow.get(s, 'HHmm') - arrow.get('0000', 'HHmm')).seconds / 60"
   ]
  },
  {
   "cell_type": "code",
   "execution_count": 25,
   "metadata": {},
   "outputs": [],
   "source": [
    "def get_minutes_departure(row):\n",
    "    s = str(int(row['scheduled_departure_time']))\n",
    "    if len(s) < 4: s = (4 - len(s)) * '0' + s\n",
    "    return (arrow.get(s, 'HHmm') - arrow.get('0000', 'HHmm')).seconds / 60"
   ]
  },
  {
   "cell_type": "code",
   "execution_count": 26,
   "metadata": {},
   "outputs": [],
   "source": [
    "def get_minutes_elapsed(row):    \n",
    "    s = str(int(row['scheduled_elapsed_time']))\n",
    "    if s == '-1': return -1\n",
    "    if len(s) < 4: s = (4 - len(s)) * '0' + s\n",
    "    return (arrow.get(s, 'HHmm') - arrow.get('0000', 'HHmm')).seconds / 60"
   ]
  },
  {
   "cell_type": "code",
   "execution_count": 27,
   "metadata": {},
   "outputs": [],
   "source": [
    "ttrain['scheduled_arrival_time_minutes'] = ttrain.map_partitions(lambda df: df.apply((get_minutes), axis=1), meta=('int64')).compute(scheduler='multiprocessing')  "
   ]
  },
  {
   "cell_type": "code",
   "execution_count": 28,
   "metadata": {},
   "outputs": [],
   "source": [
    "ttest['scheduled_arrival_time_minutes'] = ttest.map_partitions(lambda df: df.apply((get_minutes), axis=1), meta=('int64')).compute(scheduler='multiprocessing')  "
   ]
  },
  {
   "cell_type": "code",
   "execution_count": 29,
   "metadata": {},
   "outputs": [],
   "source": [
    "ttest['scheduled_departure_time_minutes'] = ttest.map_partitions(lambda df: df.apply((get_minutes_departure), axis=1), meta=('int64')).compute(scheduler='multiprocessing')  "
   ]
  },
  {
   "cell_type": "code",
   "execution_count": 30,
   "metadata": {},
   "outputs": [],
   "source": [
    "ttrain['scheduled_departure_time_minutes'] = ttrain.map_partitions(lambda df: df.apply((get_minutes_departure), axis=1), meta=('int64')).compute(scheduler='multiprocessing')  "
   ]
  },
  {
   "cell_type": "markdown",
   "metadata": {},
   "source": []
  },
  {
   "cell_type": "code",
   "execution_count": 34,
   "metadata": {},
   "outputs": [],
   "source": [
    "carriers = pd.read_csv('../input/carriers.csv')"
   ]
  },
  {
   "cell_type": "code",
   "execution_count": 35,
   "metadata": {},
   "outputs": [],
   "source": [
    "def get_mean_delay(row):\n",
    "    train_carrier = train[train.carrier_id == row['id']]\n",
    "    length = train_carrier.shape[0]\n",
    "    return train_carrier['target_delay'].sum()/length"
   ]
  },
  {
   "cell_type": "code",
   "execution_count": 36,
   "metadata": {},
   "outputs": [],
   "source": [
    "def get_mean_cancels(row):\n",
    "    train_carrier = train[train.carrier_id == row['id']]\n",
    "    length = train_carrier.shape[0]\n",
    "    return train_carrier['is_cancelled'].sum()/length"
   ]
  },
  {
   "cell_type": "code",
   "execution_count": 37,
   "metadata": {},
   "outputs": [],
   "source": [
    "carriers['mean_delay'] = carriers[['id']].apply(get_mean_delay, axis=1)"
   ]
  },
  {
   "cell_type": "code",
   "execution_count": 38,
   "metadata": {},
   "outputs": [],
   "source": [
    "carriers['mean_cancels'] = carriers[['id']].apply(get_mean_cancels, axis=1)"
   ]
  },
  {
   "cell_type": "code",
   "execution_count": 39,
   "metadata": {},
   "outputs": [],
   "source": [
    "def get_carrier_delay(row):\n",
    "    return (carriers[carriers.id == row['carrier_id']]['mean_delay']).values[0]"
   ]
  },
  {
   "cell_type": "code",
   "execution_count": 40,
   "metadata": {},
   "outputs": [],
   "source": [
    "def get_carrier_cancels(row):\n",
    "    return (carriers[carriers.id == row['carrier_id']]['mean_cancels']).values[0]"
   ]
  },
  {
   "cell_type": "code",
   "execution_count": 41,
   "metadata": {},
   "outputs": [],
   "source": [
    "ttrain['carrier_delay'] = ttrain.map_partitions(lambda df: df.apply((get_carrier_delay), axis=1), meta=('int64')).compute(scheduler='multiprocessing')  "
   ]
  },
  {
   "cell_type": "code",
   "execution_count": 42,
   "metadata": {},
   "outputs": [],
   "source": [
    "ttest['carrier_delay'] = ttest.map_partitions(lambda df: df.apply((get_carrier_delay), axis=1), meta=('int64')).compute(scheduler='multiprocessing')  "
   ]
  },
  {
   "cell_type": "code",
   "execution_count": 43,
   "metadata": {},
   "outputs": [],
   "source": [
    "ttrain['carrier_cancels'] = ttrain.map_partitions(lambda df: df.apply((get_carrier_cancels), axis=1), meta=('int64')).compute(scheduler='multiprocessing')  "
   ]
  },
  {
   "cell_type": "code",
   "execution_count": 44,
   "metadata": {},
   "outputs": [],
   "source": [
    "ttest['carrier_cancels'] = ttest.map_partitions(lambda df: df.apply((get_carrier_cancels), axis=1), meta=('int64')).compute(scheduler='multiprocessing')  "
   ]
  },
  {
   "cell_type": "code",
   "execution_count": null,
   "metadata": {},
   "outputs": [],
   "source": []
  },
  {
   "cell_type": "code",
   "execution_count": 45,
   "metadata": {},
   "outputs": [],
   "source": [
    "airplanes = pd.read_csv('../input/tail_number.csv')"
   ]
  },
  {
   "cell_type": "code",
   "execution_count": 46,
   "metadata": {},
   "outputs": [],
   "source": [
    "global_cancels = np.mean(train['is_cancelled'])"
   ]
  },
  {
   "cell_type": "code",
   "execution_count": 47,
   "metadata": {},
   "outputs": [],
   "source": [
    "global_mean = np.mean(train['target_delay'])"
   ]
  },
  {
   "cell_type": "code",
   "execution_count": 48,
   "metadata": {},
   "outputs": [],
   "source": [
    "def get_mean_airplane_delay(row):\n",
    "    train_carrier = train[train.tail_number == row['id']]\n",
    "    length = train_carrier.shape[0]\n",
    "    if length == 0: return global_mean\n",
    "    local_mean = train_carrier['target_delay'].sum()/length\n",
    "    return (length * local_mean + 100 * global_mean)/(length + 100)"
   ]
  },
  {
   "cell_type": "code",
   "execution_count": 49,
   "metadata": {},
   "outputs": [],
   "source": [
    "def get_mean_airplane_cancels(row):\n",
    "    train_carrier = train[train.tail_number == row['id']]\n",
    "    length = train_carrier.shape[0]\n",
    "    if length == 0: return global_cancels\n",
    "    local_mean = train_carrier['is_cancelled'].sum()/length\n",
    "    return (length * local_mean + 100 * global_mean)/(length + 100)"
   ]
  },
  {
   "cell_type": "code",
   "execution_count": 50,
   "metadata": {},
   "outputs": [],
   "source": [
    "airplanes['mean_delay'] = airplanes[['id']].apply(get_mean_airplane_delay, axis=1)"
   ]
  },
  {
   "cell_type": "code",
   "execution_count": 51,
   "metadata": {},
   "outputs": [],
   "source": [
    "airplanes['mean_cancels'] = airplanes[['id']].apply(get_mean_airplane_delay, axis=1)"
   ]
  },
  {
   "cell_type": "code",
   "execution_count": 52,
   "metadata": {},
   "outputs": [],
   "source": [
    "def get_airplane_delay(row):\n",
    "    lista = (airplanes[airplanes.id == row['tail_number']]['mean_delay']).values\n",
    "    if len(lista) > 0:\n",
    "        return lista[0]\n",
    "    return global_mean\n",
    "    "
   ]
  },
  {
   "cell_type": "code",
   "execution_count": 53,
   "metadata": {},
   "outputs": [],
   "source": [
    "def get_airplane_cancels(row):\n",
    "    lista = (airplanes[airplanes.id == row['tail_number']]['mean_cancels']).values\n",
    "    if len(lista) > 0:\n",
    "        return lista[0]\n",
    "    return global_cancels"
   ]
  },
  {
   "cell_type": "code",
   "execution_count": 54,
   "metadata": {},
   "outputs": [],
   "source": [
    "ttrain['airplane_delay'] = ttrain.map_partitions(lambda df: df.apply((get_airplane_delay), axis=1), meta=('int64')).compute(scheduler='multiprocessing')  "
   ]
  },
  {
   "cell_type": "code",
   "execution_count": 55,
   "metadata": {},
   "outputs": [],
   "source": [
    "ttest['airplane_delay'] = ttest.map_partitions(lambda df: df.apply((get_airplane_delay), axis=1), meta=('int64')).compute(scheduler='multiprocessing')  "
   ]
  },
  {
   "cell_type": "code",
   "execution_count": 56,
   "metadata": {},
   "outputs": [],
   "source": [
    "ttrain['airplane_cancels'] = ttrain.map_partitions(lambda df: df.apply((get_airplane_cancels), axis=1), meta=('int64')).compute(scheduler='multiprocessing')  "
   ]
  },
  {
   "cell_type": "code",
   "execution_count": 57,
   "metadata": {},
   "outputs": [],
   "source": [
    "ttest['airplane_cancels'] = ttest.map_partitions(lambda df: df.apply((get_airplane_cancels), axis=1), meta=('int64')).compute(scheduler='multiprocessing')  "
   ]
  },
  {
   "cell_type": "code",
   "execution_count": null,
   "metadata": {},
   "outputs": [],
   "source": []
  },
  {
   "cell_type": "code",
   "execution_count": 58,
   "metadata": {},
   "outputs": [],
   "source": [
    "airplanes = airplanes[airplanes['id'].notnull()]"
   ]
  },
  {
   "cell_type": "code",
   "execution_count": 59,
   "metadata": {},
   "outputs": [],
   "source": [
    "airplanes = airplanes.fillna(-1)"
   ]
  },
  {
   "cell_type": "code",
   "execution_count": 62,
   "metadata": {},
   "outputs": [],
   "source": [
    "airplanes['id'] = airplanes['id'].astype('int64')"
   ]
  },
  {
   "cell_type": "code",
   "execution_count": 63,
   "metadata": {},
   "outputs": [],
   "source": [
    "airplanes['year'] = airplanes['year'].map(lambda x: -1 if x=='None' else x).astype('int64')"
   ]
  },
  {
   "cell_type": "code",
   "execution_count": 64,
   "metadata": {},
   "outputs": [],
   "source": [
    "def get_year(row):\n",
    "    years = (airplanes[airplanes.id == row['tail_number']]['year']).values\n",
    "    if len(years) > 0: return years[0]\n",
    "    return 1981\n",
    "        "
   ]
  },
  {
   "cell_type": "code",
   "execution_count": 65,
   "metadata": {},
   "outputs": [],
   "source": [
    "ttrain['airplane_year'] = ttrain.map_partitions(lambda df: df.apply((get_year), axis=1), meta=('int64')).compute(scheduler='multiprocessing')  "
   ]
  },
  {
   "cell_type": "code",
   "execution_count": 66,
   "metadata": {},
   "outputs": [],
   "source": [
    "ttest['airplane_year'] = ttest.map_partitions(lambda df: df.apply((get_year), axis=1), meta=('int64')).compute(scheduler='multiprocessing')  "
   ]
  },
  {
   "cell_type": "code",
   "execution_count": 67,
   "metadata": {},
   "outputs": [],
   "source": [
    "airplanes['engine_type'] = airplanes['engine_type'].astype('str')"
   ]
  },
  {
   "cell_type": "code",
   "execution_count": 68,
   "metadata": {},
   "outputs": [
    {
     "data": {
      "text/plain": [
       "Turbo-Fan        2883\n",
       "Turbo-Jet        1429\n",
       "-1                403\n",
       "Turbo-Prop        122\n",
       "Reciprocating      29\n",
       "Turbo-Shaft         7\n",
       "4 Cycle             4\n",
       "None                3\n",
       "Name: engine_type, dtype: int64"
      ]
     },
     "execution_count": 68,
     "metadata": {},
     "output_type": "execute_result"
    }
   ],
   "source": [
    "airplanes['engine_type'].value_counts()"
   ]
  },
  {
   "cell_type": "code",
   "execution_count": 69,
   "metadata": {},
   "outputs": [],
   "source": [
    "def get_engine(row):\n",
    "    if row['engine_type'] == 'Turbo-Fan' : return '2'\n",
    "    elif row['engine_type'] == 'Turbo-Jet': return '1'\n",
    "    else: return '0'"
   ]
  },
  {
   "cell_type": "code",
   "execution_count": 70,
   "metadata": {},
   "outputs": [],
   "source": [
    "airplanes['engine_type_encoding'] = airplanes[['engine_type']].apply(get_engine, axis=1)"
   ]
  },
  {
   "cell_type": "code",
   "execution_count": 71,
   "metadata": {},
   "outputs": [],
   "source": [
    "def get_engine_type(row):\n",
    "    engine = (airplanes[airplanes.id == row['tail_number']]['engine_type_encoding']).values\n",
    "    if len(engine) > 0: return engine[0]\n",
    "    return 0"
   ]
  },
  {
   "cell_type": "code",
   "execution_count": 72,
   "metadata": {},
   "outputs": [],
   "source": [
    "ttrain['airplane_engine'] = ttrain.map_partitions(lambda df: df.apply((get_engine_type), axis=1), meta=('int64')).compute(scheduler='multiprocessing')  "
   ]
  },
  {
   "cell_type": "code",
   "execution_count": 73,
   "metadata": {},
   "outputs": [],
   "source": [
    "ttest['airplane_engine'] = ttest.map_partitions(lambda df: df.apply((get_engine_type), axis=1), meta=('int64')).compute(scheduler='multiprocessing')  "
   ]
  },
  {
   "cell_type": "code",
   "execution_count": null,
   "metadata": {},
   "outputs": [],
   "source": []
  },
  {
   "cell_type": "code",
   "execution_count": 74,
   "metadata": {},
   "outputs": [],
   "source": [
    "train = ttrain.compute()"
   ]
  },
  {
   "cell_type": "code",
   "execution_count": 75,
   "metadata": {},
   "outputs": [],
   "source": [
    "test = ttest.compute()"
   ]
  },
  {
   "cell_type": "code",
   "execution_count": 76,
   "metadata": {},
   "outputs": [],
   "source": [
    "train['scheduled_elapsed_time_fixed'] = train['scheduled_elapsed_time'].map(lambda x: 10 if x < 0 else x) "
   ]
  },
  {
   "cell_type": "code",
   "execution_count": 77,
   "metadata": {},
   "outputs": [],
   "source": [
    "train['scheduled_elapsed_time_fixed'] = train['scheduled_elapsed_time_fixed'].fillna(100)"
   ]
  },
  {
   "cell_type": "code",
   "execution_count": 78,
   "metadata": {},
   "outputs": [],
   "source": [
    "test['scheduled_elapsed_time_fixed'] = test['scheduled_elapsed_time'].map(lambda x: 10 if x < 10 else x) "
   ]
  },
  {
   "cell_type": "code",
   "execution_count": 79,
   "metadata": {},
   "outputs": [],
   "source": [
    "test['scheduled_elapsed_time_fixed'] = test['scheduled_elapsed_time_fixed'].fillna(100)"
   ]
  },
  {
   "cell_type": "code",
   "execution_count": 80,
   "metadata": {},
   "outputs": [],
   "source": [
    "train['airplane_year'] = train['airplane_year'].map(lambda x : 1981 if x < 100 else x)"
   ]
  },
  {
   "cell_type": "code",
   "execution_count": 81,
   "metadata": {},
   "outputs": [],
   "source": [
    "test['airplane_year'] = test['airplane_year'].map(lambda x : 1981 if x < 100 else x)"
   ]
  },
  {
   "cell_type": "code",
   "execution_count": null,
   "metadata": {},
   "outputs": [],
   "source": []
  },
  {
   "cell_type": "code",
   "execution_count": 82,
   "metadata": {},
   "outputs": [],
   "source": [
    "feats_c = ['scheduled_arrival_time_minutes', 'scheduled_departure_time_minutes', 'tail_number', 'airplane_year', 'airplane_cancels',\n",
    "        'year', 'month', 'day_of_month' , 'origin_airport_latitude', 'origin_airport_longitude', 'distance', 'airplane_engine',\n",
    "         'destination_airport_latitude', 'destination_airport_longitude', 'scheduled_elapsed_time_fixed', 'carrier_cancels']\n",
    "\n",
    "X = train[feats_c].values\n",
    "c = train['is_cancelled'].values\n",
    "\n",
    "model_c = xgb.XGBClassifier(n_estimators=300, max_depth=9, seed=2019, max_features=0.8, n_jobs=30, learning_rate=0.05)"
   ]
  },
  {
   "cell_type": "code",
   "execution_count": 84,
   "metadata": {},
   "outputs": [
    {
     "name": "stdout",
     "output_type": "stream",
     "text": [
      "CPU times: user 32min 30s, sys: 14min 57s, total: 47min 28s\n",
      "Wall time: 3min\n",
      "CPU times: user 20.2 s, sys: 6.12 s, total: 26.4 s\n",
      "Wall time: 2.41 s\n"
     ]
    },
    {
     "data": {
      "text/plain": [
       "0.9983420180009475"
      ]
     },
     "execution_count": 84,
     "metadata": {},
     "output_type": "execute_result"
    }
   ],
   "source": [
    "X_train, X_test, c_train, c_test = train_test_split(X, c, test_size=0.3)\n",
    "\n",
    "%time model_c.fit(X_train, c_train)\n",
    "%time c_pred = model_c.predict(X_test)\n",
    "\n",
    "precision_score(c_test, c_pred)"
   ]
  },
  {
   "cell_type": "code",
   "execution_count": 85,
   "metadata": {},
   "outputs": [
    {
     "data": {
      "text/plain": [
       "0.9937735002398378"
      ]
     },
     "execution_count": 85,
     "metadata": {},
     "output_type": "execute_result"
    }
   ],
   "source": [
    "accuracy_score(c_test, c_pred)"
   ]
  },
  {
   "cell_type": "code",
   "execution_count": 86,
   "metadata": {},
   "outputs": [
    {
     "data": {
      "text/plain": [
       "0.677652733118971"
      ]
     },
     "execution_count": 86,
     "metadata": {},
     "output_type": "execute_result"
    }
   ],
   "source": [
    "recall_score(c_test, c_pred)"
   ]
  },
  {
   "cell_type": "code",
   "execution_count": 87,
   "metadata": {},
   "outputs": [],
   "source": [
    "train['is_cancelled_pred'] = model_c.predict(train[feats_c].values)"
   ]
  },
  {
   "cell_type": "code",
   "execution_count": 88,
   "metadata": {},
   "outputs": [],
   "source": [
    "test['is_cancelled_pred'] = model_c.predict(test[feats_c].values)"
   ]
  },
  {
   "cell_type": "code",
   "execution_count": 90,
   "metadata": {},
   "outputs": [
    {
     "data": {
      "image/png": "[encoded data removed]",
      "text/plain": [
       "<Figure size 720x360 with 1 Axes>"
      ]
     },
     "metadata": {
      "needs_background": "light"
     },
     "output_type": "display_data"
    }
   ],
   "source": [
    "draw_feature_importances(model_c, feats_c)"
   ]
  },
  {
   "cell_type": "code",
   "execution_count": 91,
   "metadata": {},
   "outputs": [],
   "source": [
    "train['target_delay_log'] = np.log(train['target_delay'] + 1)"
   ]
  },
  {
   "cell_type": "code",
   "execution_count": null,
   "metadata": {},
   "outputs": [],
   "source": []
  },
  {
   "cell_type": "code",
   "execution_count": null,
   "metadata": {},
   "outputs": [],
   "source": []
  },
  {
   "cell_type": "code",
   "execution_count": 93,
   "metadata": {},
   "outputs": [],
   "source": [
    "feats_153 = ['scheduled_departure_time_minutes', 'carrier_id', 'scheduled_arrival_time_minutes', 'airplane_delay',\n",
    "        'year', 'month', 'day_of_month' , 'day_of_week', 'origin_airport_latitude', 'origin_airport_longitude', 'carrier_delay',\n",
    "         'destination_airport_latitude', 'destination_airport_longitude', 'is_cancelled_pred']\n",
    "\n",
    "X = train[feats_153].values\n",
    "y = train['target_delay_log'].values\n",
    "\n",
    "model_153 = xgb.XGBRegressor(n_estimators=1000, max_depth=10, seed=2019, max_features=0.8, n_jobs=50, learning_rate=0.03)"
   ]
  },
  {
   "cell_type": "code",
   "execution_count": 94,
   "metadata": {},
   "outputs": [
    {
     "name": "stdout",
     "output_type": "stream",
     "text": [
      "CPU times: user 2h 18min 30s, sys: 2h 8min 20s, total: 4h 26min 51s\n",
      "Wall time: 16min 44s\n"
     ]
    },
    {
     "data": {
      "text/plain": [
       "1.5330097616725544"
      ]
     },
     "execution_count": 94,
     "metadata": {},
     "output_type": "execute_result"
    }
   ],
   "source": [
    "X_train, X_test, y_train, y_test = train_test_split(X, y, test_size=0.3)\n",
    "\n",
    "%time model_153.fit(X_train, y_train)\n",
    "y_pred_exp = np.exp(model_153.predict(X_test)) - 1\n",
    "y_pred_exp[y_pred_exp < 0] = 0\n",
    "\n",
    "y_test_exp = np.exp(y_test) - 1\n",
    "y_test_exp[y_test_exp < 0] = 0\n",
    "\n",
    "rmsle(y_test_exp, y_pred_exp)"
   ]
  },
  {
   "cell_type": "code",
   "execution_count": 97,
   "metadata": {},
   "outputs": [
    {
     "data": {
      "image/png": "[encoded data removed]",
      "text/plain": [
       "<Figure size 720x360 with 1 Axes>"
      ]
     },
     "metadata": {
      "needs_background": "light"
     },
     "output_type": "display_data"
    }
   ],
   "source": [
    "draw_feature_importances(model_153, feats_153)"
   ]
  },
  {
   "cell_type": "code",
   "execution_count": 95,
   "metadata": {},
   "outputs": [],
   "source": [
    "X_pred = test[feats_153].values\n",
    "\n",
    "y_pred = np.exp(model_153.predict(X_pred)) - 1\n",
    "y_pred[y_pred < 0] = 0"
   ]
  },
  {
   "cell_type": "code",
   "execution_count": 96,
   "metadata": {},
   "outputs": [],
   "source": [
    "test['target_delay'] = y_pred\n",
    "test[ ['id', 'target_delay'] ].to_csv('../output/submit_model_is_cancelled_delay_and_cancel_means_check.csv', index=False)"
   ]
  },
  {
   "cell_type": "code",
   "execution_count": null,
   "metadata": {},
   "outputs": [],
   "source": []
  }
 ],
 "metadata": {
  "kernelspec": {
   "display_name": "Python 3",
   "language": "python",
   "name": "python3"
  },
  "language_info": {
   "codemirror_mode": {
    "name": "ipython",
    "version": 3
   },
   "file_extension": ".py",
   "mimetype": "text/x-python",
   "name": "python",
   "nbconvert_exporter": "python",
   "pygments_lexer": "ipython3",
   "version": "3.6.8"
  }
 },
 "nbformat": 4,
 "nbformat_minor": 2
}
